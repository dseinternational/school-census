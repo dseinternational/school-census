{
 "cells": [
  {
   "cell_type": "code",
   "execution_count": 6,
   "metadata": {},
   "outputs": [],
   "source": [
    "import duckdb\n",
    "import pandas as pd\n",
    "import config\n",
    "\n",
    "data = duckdb.connect(f\"../{config.DATA_DIR_NAME}/data_tables.db\")"
   ]
  },
  {
   "cell_type": "markdown",
   "metadata": {},
   "source": [
    "## School type"
   ]
  },
  {
   "cell_type": "code",
   "execution_count": 7,
   "metadata": {},
   "outputs": [
    {
     "data": {
      "text/plain": [
       "┌─────────────┬─────────────────┬──────────────────┬──────────────┬──────────────┬───────────────┬─────────────┬─────────────┬───────────────┬─────────────┬─────────────────────────────┬─────────────────────────────┬─────────────────┬──────────────┬─────────────┬──────────┬─────────────────────┬──────────────────┐\n",
       "│ time_period │ time_identifier │ geographic_level │ country_code │ country_name │  region_name  │ region_code │ old_la_code │    la_name    │ new_la_code │     phase_type_grouping     │    type_of_establishment    │ hospital_school │ total_pupils │ sen_support │ ehc_plan │ sen_support_percent │ ehc_plan_percent │\n",
       "│    int64    │     varchar     │     varchar      │   varchar    │   varchar    │    varchar    │   varchar   │    int64    │    varchar    │   varchar   │           varchar           │           varchar           │     varchar     │   varchar    │   varchar   │ varchar  │       varchar       │     varchar      │\n",
       "├─────────────┼─────────────────┼──────────────────┼──────────────┼──────────────┼───────────────┼─────────────┼─────────────┼───────────────┼─────────────┼─────────────────────────────┼─────────────────────────────┼─────────────────┼──────────────┼─────────────┼──────────┼─────────────────────┼──────────────────┤\n",
       "│      202324 │ Academic year   │ Local authority  │ E92000001    │ England      │ East Midlands │ E12000004   │         925 │ Lincolnshire  │ E10000019   │ State-funded secondary      │ Academy sponsor led         │ No              │ 16348        │ 2842        │ 615      │ 17.38438953         │ 3.761928065      │\n",
       "│      202324 │ Academic year   │ Local authority  │ E92000001    │ England      │ East Midlands │ E12000004   │         925 │ Lincolnshire  │ E10000019   │ State-funded secondary      │ Community school            │ No              │ 2111         │ 173         │ 7        │ 8.195168167         │ 0.3315964        │\n",
       "│      202324 │ Academic year   │ Local authority  │ E92000001    │ England      │ West Midlands │ E12000005   │         335 │ Walsall       │ E08000030   │ State-funded special school │ Academy special sponsor led │ No              │ 140          │ 0           │ 140      │ 0                   │ 100              │\n",
       "│      202324 │ Academic year   │ Local authority  │ E92000001    │ England      │ West Midlands │ E12000005   │         335 │ Walsall       │ E08000030   │ State-funded special school │ Community special school    │ No              │ 790          │ 0           │ 790      │ 0                   │ 100              │\n",
       "│      202324 │ Academic year   │ Local authority  │ E92000001    │ England      │ West Midlands │ E12000005   │         336 │ Wolverhampton │ E08000031   │ Independent school          │ Other independent school    │ No              │ 1430         │ 238         │ 11       │ 16.64335664         │ 0.769230769      │\n",
       "└─────────────┴─────────────────┴──────────────────┴──────────────┴──────────────┴───────────────┴─────────────┴─────────────┴───────────────┴─────────────┴─────────────────────────────┴─────────────────────────────┴─────────────────┴──────────────┴─────────────┴──────────┴─────────────────────┴──────────────────┘"
      ]
     },
     "execution_count": 7,
     "metadata": {},
     "output_type": "execute_result"
    }
   ],
   "source": [
    "data.sql(\"\"\"\n",
    "    select *\n",
    "    from sen_phase_type\n",
    "    limit 5\n",
    "    \"\"\")"
   ]
  },
  {
   "cell_type": "code",
   "execution_count": 8,
   "metadata": {},
   "outputs": [
    {
     "data": {
      "application/vnd.microsoft.datawrangler.viewer.v0+json": {
       "columns": [
        {
         "name": "index",
         "rawType": "int64",
         "type": "integer"
        },
        {
         "name": "time_period",
         "rawType": "int64",
         "type": "integer"
        },
        {
         "name": "time_identifier",
         "rawType": "object",
         "type": "string"
        },
        {
         "name": "geographic_level",
         "rawType": "object",
         "type": "string"
        },
        {
         "name": "country_code",
         "rawType": "object",
         "type": "string"
        },
        {
         "name": "country_name",
         "rawType": "object",
         "type": "string"
        },
        {
         "name": "region_name",
         "rawType": "object",
         "type": "string"
        },
        {
         "name": "region_code",
         "rawType": "object",
         "type": "string"
        },
        {
         "name": "old_la_code",
         "rawType": "Int64",
         "type": "integer"
        },
        {
         "name": "la_name",
         "rawType": "object",
         "type": "string"
        },
        {
         "name": "new_la_code",
         "rawType": "object",
         "type": "string"
        },
        {
         "name": "phase_type_grouping",
         "rawType": "object",
         "type": "string"
        },
        {
         "name": "type_of_establishment",
         "rawType": "object",
         "type": "string"
        },
        {
         "name": "hospital_school",
         "rawType": "object",
         "type": "string"
        },
        {
         "name": "total_pupils",
         "rawType": "object",
         "type": "string"
        },
        {
         "name": "sen_support",
         "rawType": "object",
         "type": "string"
        },
        {
         "name": "ehc_plan",
         "rawType": "object",
         "type": "string"
        },
        {
         "name": "sen_support_percent",
         "rawType": "object",
         "type": "string"
        },
        {
         "name": "ehc_plan_percent",
         "rawType": "object",
         "type": "string"
        }
       ],
       "conversionMethod": "pd.DataFrame",
       "ref": "f3a29820-9bdb-4c56-bd88-345dde20a8fa",
       "rows": [
        [
         "0",
         "202324",
         "Academic year",
         "Local authority",
         "E92000001",
         "England",
         "East Midlands",
         "E12000004",
         "925",
         "Lincolnshire",
         "E10000019",
         "State-funded secondary",
         "Academy sponsor led",
         "No",
         "16348",
         "2842",
         "615",
         "17.38438953",
         "3.761928065"
        ],
        [
         "1",
         "202324",
         "Academic year",
         "Local authority",
         "E92000001",
         "England",
         "East Midlands",
         "E12000004",
         "925",
         "Lincolnshire",
         "E10000019",
         "State-funded secondary",
         "Community school",
         "No",
         "2111",
         "173",
         "7",
         "8.195168167",
         "0.3315964"
        ],
        [
         "2",
         "202324",
         "Academic year",
         "Local authority",
         "E92000001",
         "England",
         "West Midlands",
         "E12000005",
         "335",
         "Walsall",
         "E08000030",
         "State-funded special school",
         "Academy special sponsor led",
         "No",
         "140",
         "0",
         "140",
         "0",
         "100"
        ],
        [
         "3",
         "202324",
         "Academic year",
         "Local authority",
         "E92000001",
         "England",
         "West Midlands",
         "E12000005",
         "335",
         "Walsall",
         "E08000030",
         "State-funded special school",
         "Community special school",
         "No",
         "790",
         "0",
         "790",
         "0",
         "100"
        ],
        [
         "4",
         "202324",
         "Academic year",
         "Local authority",
         "E92000001",
         "England",
         "West Midlands",
         "E12000005",
         "336",
         "Wolverhampton",
         "E08000031",
         "Independent school",
         "Other independent school",
         "No",
         "1430",
         "238",
         "11",
         "16.64335664",
         "0.769230769"
        ]
       ],
       "shape": {
        "columns": 18,
        "rows": 5
       }
      },
      "text/html": [
       "<div>\n",
       "<style scoped>\n",
       "    .dataframe tbody tr th:only-of-type {\n",
       "        vertical-align: middle;\n",
       "    }\n",
       "\n",
       "    .dataframe tbody tr th {\n",
       "        vertical-align: top;\n",
       "    }\n",
       "\n",
       "    .dataframe thead th {\n",
       "        text-align: right;\n",
       "    }\n",
       "</style>\n",
       "<table border=\"1\" class=\"dataframe\">\n",
       "  <thead>\n",
       "    <tr style=\"text-align: right;\">\n",
       "      <th></th>\n",
       "      <th>time_period</th>\n",
       "      <th>time_identifier</th>\n",
       "      <th>geographic_level</th>\n",
       "      <th>country_code</th>\n",
       "      <th>country_name</th>\n",
       "      <th>region_name</th>\n",
       "      <th>region_code</th>\n",
       "      <th>old_la_code</th>\n",
       "      <th>la_name</th>\n",
       "      <th>new_la_code</th>\n",
       "      <th>phase_type_grouping</th>\n",
       "      <th>type_of_establishment</th>\n",
       "      <th>hospital_school</th>\n",
       "      <th>total_pupils</th>\n",
       "      <th>sen_support</th>\n",
       "      <th>ehc_plan</th>\n",
       "      <th>sen_support_percent</th>\n",
       "      <th>ehc_plan_percent</th>\n",
       "    </tr>\n",
       "  </thead>\n",
       "  <tbody>\n",
       "    <tr>\n",
       "      <th>0</th>\n",
       "      <td>202324</td>\n",
       "      <td>Academic year</td>\n",
       "      <td>Local authority</td>\n",
       "      <td>E92000001</td>\n",
       "      <td>England</td>\n",
       "      <td>East Midlands</td>\n",
       "      <td>E12000004</td>\n",
       "      <td>925</td>\n",
       "      <td>Lincolnshire</td>\n",
       "      <td>E10000019</td>\n",
       "      <td>State-funded secondary</td>\n",
       "      <td>Academy sponsor led</td>\n",
       "      <td>No</td>\n",
       "      <td>16348</td>\n",
       "      <td>2842</td>\n",
       "      <td>615</td>\n",
       "      <td>17.38438953</td>\n",
       "      <td>3.761928065</td>\n",
       "    </tr>\n",
       "    <tr>\n",
       "      <th>1</th>\n",
       "      <td>202324</td>\n",
       "      <td>Academic year</td>\n",
       "      <td>Local authority</td>\n",
       "      <td>E92000001</td>\n",
       "      <td>England</td>\n",
       "      <td>East Midlands</td>\n",
       "      <td>E12000004</td>\n",
       "      <td>925</td>\n",
       "      <td>Lincolnshire</td>\n",
       "      <td>E10000019</td>\n",
       "      <td>State-funded secondary</td>\n",
       "      <td>Community school</td>\n",
       "      <td>No</td>\n",
       "      <td>2111</td>\n",
       "      <td>173</td>\n",
       "      <td>7</td>\n",
       "      <td>8.195168167</td>\n",
       "      <td>0.3315964</td>\n",
       "    </tr>\n",
       "    <tr>\n",
       "      <th>2</th>\n",
       "      <td>202324</td>\n",
       "      <td>Academic year</td>\n",
       "      <td>Local authority</td>\n",
       "      <td>E92000001</td>\n",
       "      <td>England</td>\n",
       "      <td>West Midlands</td>\n",
       "      <td>E12000005</td>\n",
       "      <td>335</td>\n",
       "      <td>Walsall</td>\n",
       "      <td>E08000030</td>\n",
       "      <td>State-funded special school</td>\n",
       "      <td>Academy special sponsor led</td>\n",
       "      <td>No</td>\n",
       "      <td>140</td>\n",
       "      <td>0</td>\n",
       "      <td>140</td>\n",
       "      <td>0</td>\n",
       "      <td>100</td>\n",
       "    </tr>\n",
       "    <tr>\n",
       "      <th>3</th>\n",
       "      <td>202324</td>\n",
       "      <td>Academic year</td>\n",
       "      <td>Local authority</td>\n",
       "      <td>E92000001</td>\n",
       "      <td>England</td>\n",
       "      <td>West Midlands</td>\n",
       "      <td>E12000005</td>\n",
       "      <td>335</td>\n",
       "      <td>Walsall</td>\n",
       "      <td>E08000030</td>\n",
       "      <td>State-funded special school</td>\n",
       "      <td>Community special school</td>\n",
       "      <td>No</td>\n",
       "      <td>790</td>\n",
       "      <td>0</td>\n",
       "      <td>790</td>\n",
       "      <td>0</td>\n",
       "      <td>100</td>\n",
       "    </tr>\n",
       "    <tr>\n",
       "      <th>4</th>\n",
       "      <td>202324</td>\n",
       "      <td>Academic year</td>\n",
       "      <td>Local authority</td>\n",
       "      <td>E92000001</td>\n",
       "      <td>England</td>\n",
       "      <td>West Midlands</td>\n",
       "      <td>E12000005</td>\n",
       "      <td>336</td>\n",
       "      <td>Wolverhampton</td>\n",
       "      <td>E08000031</td>\n",
       "      <td>Independent school</td>\n",
       "      <td>Other independent school</td>\n",
       "      <td>No</td>\n",
       "      <td>1430</td>\n",
       "      <td>238</td>\n",
       "      <td>11</td>\n",
       "      <td>16.64335664</td>\n",
       "      <td>0.769230769</td>\n",
       "    </tr>\n",
       "  </tbody>\n",
       "</table>\n",
       "</div>"
      ],
      "text/plain": [
       "   time_period time_identifier geographic_level country_code country_name  \\\n",
       "0       202324   Academic year  Local authority    E92000001      England   \n",
       "1       202324   Academic year  Local authority    E92000001      England   \n",
       "2       202324   Academic year  Local authority    E92000001      England   \n",
       "3       202324   Academic year  Local authority    E92000001      England   \n",
       "4       202324   Academic year  Local authority    E92000001      England   \n",
       "\n",
       "     region_name region_code  old_la_code        la_name new_la_code  \\\n",
       "0  East Midlands   E12000004          925   Lincolnshire   E10000019   \n",
       "1  East Midlands   E12000004          925   Lincolnshire   E10000019   \n",
       "2  West Midlands   E12000005          335        Walsall   E08000030   \n",
       "3  West Midlands   E12000005          335        Walsall   E08000030   \n",
       "4  West Midlands   E12000005          336  Wolverhampton   E08000031   \n",
       "\n",
       "           phase_type_grouping        type_of_establishment hospital_school  \\\n",
       "0       State-funded secondary          Academy sponsor led              No   \n",
       "1       State-funded secondary             Community school              No   \n",
       "2  State-funded special school  Academy special sponsor led              No   \n",
       "3  State-funded special school     Community special school              No   \n",
       "4           Independent school     Other independent school              No   \n",
       "\n",
       "  total_pupils sen_support ehc_plan sen_support_percent ehc_plan_percent  \n",
       "0        16348        2842      615         17.38438953      3.761928065  \n",
       "1         2111         173        7         8.195168167        0.3315964  \n",
       "2          140           0      140                   0              100  \n",
       "3          790           0      790                   0              100  \n",
       "4         1430         238       11         16.64335664      0.769230769  "
      ]
     },
     "execution_count": 8,
     "metadata": {},
     "output_type": "execute_result"
    }
   ],
   "source": [
    "# query into a pandas dataframe\n",
    "school_type = data.sql(\n",
    "    \"\"\"\n",
    "    select *\n",
    "    from sen_phase_type\n",
    "    \"\"\").df()\n",
    "\n",
    "school_type.head()"
   ]
  },
  {
   "cell_type": "markdown",
   "metadata": {},
   "source": [
    "## Age groups"
   ]
  },
  {
   "cell_type": "code",
   "execution_count": 9,
   "metadata": {},
   "outputs": [
    {
     "data": {
      "text/plain": [
       "┌─────────────┬─────────────────┬──────────────────┬──────────────┬──────────────┬─────────────┬─────────────┬─────────────┬─────────┬─────────────┬───────────────────────────────┬──────────────────┬────────────────────────────┬─────────────────┬─────────────────┬─────────────┬───────────────┐\n",
       "│ time_period │ time_identifier │ geographic_level │ country_code │ country_name │ region_name │ region_code │ old_la_code │ la_name │ new_la_code │      phase_type_grouping      │ pupil_sen_status │        primary_need        │ breakdown_topic │    breakdown    │ pupil_count │ pupil_percent │\n",
       "│    int64    │     varchar     │     varchar      │   varchar    │   varchar    │   varchar   │   varchar   │    int64    │ varchar │   varchar   │            varchar            │     varchar      │          varchar           │     varchar     │     varchar     │    int64    │    double     │\n",
       "├─────────────┼─────────────────┼──────────────────┼──────────────┼──────────────┼─────────────┼─────────────┼─────────────┼─────────┼─────────────┼───────────────────────────────┼──────────────────┼────────────────────────────┼─────────────────┼─────────────────┼─────────────┼───────────────┤\n",
       "│      202324 │ Academic year   │ National         │ E92000001    │ England      │ NULL        │ NULL        │        NULL │ NULL    │ NULL        │ Non-maintained special school │ EHC plans        │ Autistic Spectrum Disorder │ Total           │ Total           │        1339 │         100.0 │\n",
       "│      202324 │ Academic year   │ National         │ E92000001    │ England      │ NULL        │ NULL        │        NULL │ NULL    │ NULL        │ Non-maintained special school │ EHC plans        │ Autistic Spectrum Disorder │ Age             │ Age 2 and under │           1 │          0.07 │\n",
       "│      202324 │ Academic year   │ National         │ E92000001    │ England      │ NULL        │ NULL        │        NULL │ NULL    │ NULL        │ Non-maintained special school │ EHC plans        │ Autistic Spectrum Disorder │ Age             │ Age 3           │           0 │           0.0 │\n",
       "│      202324 │ Academic year   │ National         │ E92000001    │ England      │ NULL        │ NULL        │        NULL │ NULL    │ NULL        │ Non-maintained special school │ EHC plans        │ Autistic Spectrum Disorder │ Age             │ Age 4           │          14 │          1.05 │\n",
       "│      202324 │ Academic year   │ National         │ E92000001    │ England      │ NULL        │ NULL        │        NULL │ NULL    │ NULL        │ Non-maintained special school │ EHC plans        │ Autistic Spectrum Disorder │ Age             │ Age 5           │          34 │          2.54 │\n",
       "└─────────────┴─────────────────┴──────────────────┴──────────────┴──────────────┴─────────────┴─────────────┴─────────────┴─────────┴─────────────┴───────────────────────────────┴──────────────────┴────────────────────────────┴─────────────────┴─────────────────┴─────────────┴───────────────┘"
      ]
     },
     "execution_count": 9,
     "metadata": {},
     "output_type": "execute_result"
    }
   ],
   "source": [
    "data.sql(\"\"\"\n",
    "    select *\n",
    "    from sen_age_sex\n",
    "    limit 5\n",
    "    \"\"\")"
   ]
  },
  {
   "cell_type": "code",
   "execution_count": 10,
   "metadata": {},
   "outputs": [
    {
     "data": {
      "application/vnd.microsoft.datawrangler.viewer.v0+json": {
       "columns": [
        {
         "name": "index",
         "rawType": "int64",
         "type": "integer"
        },
        {
         "name": "time_period",
         "rawType": "int64",
         "type": "integer"
        },
        {
         "name": "phase_type_grouping",
         "rawType": "object",
         "type": "string"
        },
        {
         "name": "breakdown",
         "rawType": "object",
         "type": "string"
        },
        {
         "name": "pupil_count",
         "rawType": "float64",
         "type": "float"
        }
       ],
       "conversionMethod": "pd.DataFrame",
       "ref": "3fa18b92-b136-4ba2-b2dc-071a3f0e3d6f",
       "rows": [
        [
         "0",
         "201516",
         "State-funded primary",
         "Age 10",
         "64980.0"
        ],
        [
         "1",
         "201617",
         "State-funded primary",
         "Age 10",
         "64356.0"
        ],
        [
         "2",
         "201718",
         "State-funded primary",
         "Age 10",
         "69480.0"
        ],
        [
         "3",
         "201819",
         "State-funded primary",
         "Age 10",
         "79254.0"
        ],
        [
         "4",
         "201920",
         "State-funded primary",
         "Age 10",
         "89454.0"
        ]
       ],
       "shape": {
        "columns": 4,
        "rows": 5
       }
      },
      "text/html": [
       "<div>\n",
       "<style scoped>\n",
       "    .dataframe tbody tr th:only-of-type {\n",
       "        vertical-align: middle;\n",
       "    }\n",
       "\n",
       "    .dataframe tbody tr th {\n",
       "        vertical-align: top;\n",
       "    }\n",
       "\n",
       "    .dataframe thead th {\n",
       "        text-align: right;\n",
       "    }\n",
       "</style>\n",
       "<table border=\"1\" class=\"dataframe\">\n",
       "  <thead>\n",
       "    <tr style=\"text-align: right;\">\n",
       "      <th></th>\n",
       "      <th>time_period</th>\n",
       "      <th>phase_type_grouping</th>\n",
       "      <th>breakdown</th>\n",
       "      <th>pupil_count</th>\n",
       "    </tr>\n",
       "  </thead>\n",
       "  <tbody>\n",
       "    <tr>\n",
       "      <th>0</th>\n",
       "      <td>201516</td>\n",
       "      <td>State-funded primary</td>\n",
       "      <td>Age 10</td>\n",
       "      <td>64980.0</td>\n",
       "    </tr>\n",
       "    <tr>\n",
       "      <th>1</th>\n",
       "      <td>201617</td>\n",
       "      <td>State-funded primary</td>\n",
       "      <td>Age 10</td>\n",
       "      <td>64356.0</td>\n",
       "    </tr>\n",
       "    <tr>\n",
       "      <th>2</th>\n",
       "      <td>201718</td>\n",
       "      <td>State-funded primary</td>\n",
       "      <td>Age 10</td>\n",
       "      <td>69480.0</td>\n",
       "    </tr>\n",
       "    <tr>\n",
       "      <th>3</th>\n",
       "      <td>201819</td>\n",
       "      <td>State-funded primary</td>\n",
       "      <td>Age 10</td>\n",
       "      <td>79254.0</td>\n",
       "    </tr>\n",
       "    <tr>\n",
       "      <th>4</th>\n",
       "      <td>201920</td>\n",
       "      <td>State-funded primary</td>\n",
       "      <td>Age 10</td>\n",
       "      <td>89454.0</td>\n",
       "    </tr>\n",
       "  </tbody>\n",
       "</table>\n",
       "</div>"
      ],
      "text/plain": [
       "   time_period   phase_type_grouping breakdown  pupil_count\n",
       "0       201516  State-funded primary    Age 10      64980.0\n",
       "1       201617  State-funded primary    Age 10      64356.0\n",
       "2       201718  State-funded primary    Age 10      69480.0\n",
       "3       201819  State-funded primary    Age 10      79254.0\n",
       "4       201920  State-funded primary    Age 10      89454.0"
      ]
     },
     "execution_count": 10,
     "metadata": {},
     "output_type": "execute_result"
    }
   ],
   "source": [
    "# query into a pandas dataframe\n",
    "age_groups = data.sql(\n",
    "    \"\"\"\n",
    "    select time_period, phase_type_grouping, breakdown, sum(pupil_count) as pupil_count\n",
    "    from sen_age_sex\n",
    "    where phase_type_grouping = 'State-funded primary' and pupil_sen_status = 'EHC plans' and breakdown_topic = 'Age'\n",
    "    group by time_period, pupil_sen_status, phase_type_grouping, breakdown\n",
    "    order by breakdown, time_period    \n",
    "    \"\"\").df()\n",
    "\n",
    "age_groups.head()"
   ]
  },
  {
   "cell_type": "markdown",
   "metadata": {},
   "source": [
    "## Year groups"
   ]
  },
  {
   "cell_type": "code",
   "execution_count": 11,
   "metadata": {},
   "outputs": [
    {
     "data": {
      "text/plain": [
       "┌─────────────┬─────────────────┬──────────────────┬──────────────┬──────────────┬─────────────┬─────────────┬─────────────┬─────────┬─────────────┬───────────────────────────────┬──────────────────┬─────────────────────────────┬──────────────────┬────────────────┬──────────────┬───────────┬───────────┬───────────┬───────────┬───────────┬───────────┬───────────┬───────────┬───────────┬────────────┬────────────┬────────────┬────────────┬────────────┬─────────────────┬────────────────────────┬──────────────────────┬───────────────────┬───────────────────┬───────────────────┬───────────────────┬───────────────────┬───────────────────┬───────────────────┬───────────────────┬───────────────────┬────────────────────┬────────────────────┬────────────────────┬────────────────────┬────────────────────┬─────────────────────────┐\n",
       "│ time_period │ time_identifier │ geographic_level │ country_code │ country_name │ region_name │ region_code │ old_la_code │ la_name │ new_la_code │      phase_type_grouping      │ pupil_sen_status │        primary_need         │ number_of_pupils │ nc_early_years │ nc_reception │ nc_year_1 │ nc_year_2 │ nc_year_3 │ nc_year_4 │ nc_year_5 │ nc_year_6 │ nc_year_7 │ nc_year_8 │ nc_year_9 │ nc_year_10 │ nc_year_11 │ nc_year_12 │ nc_year_13 │ nc_year_14 │ nc_not_followed │ nc_early_years_percent │ nc_reception_percent │ nc_year_1_percent │ nc_year_2_percent │ nc_year_3_percent │ nc_year_4_percent │ nc_year_5_percent │ nc_year_6_percent │ nc_year_7_percent │ nc_year_8_percent │ nc_year_9_percent │ nc_year_10_percent │ nc_year_11_percent │ nc_year_12_percent │ nc_year_13_percent │ nc_year_14_percent │ nc_not_followed_percent │\n",
       "│    int64    │     varchar     │     varchar      │   varchar    │   varchar    │   varchar   │   varchar   │    int64    │ varchar │   varchar   │            varchar            │     varchar      │           varchar           │      int64       │     int64      │    int64     │   int64   │   int64   │   int64   │   int64   │   int64   │   int64   │   int64   │   int64   │   int64   │   int64    │   int64    │   int64    │   int64    │   int64    │      int64      │         double         │        double        │      double       │      double       │      double       │      double       │      double       │      double       │      double       │      double       │      double       │       double       │       double       │       double       │       double       │       double       │         double          │\n",
       "├─────────────┼─────────────────┼──────────────────┼──────────────┼──────────────┼─────────────┼─────────────┼─────────────┼─────────┼─────────────┼───────────────────────────────┼──────────────────┼─────────────────────────────┼──────────────────┼────────────────┼──────────────┼───────────┼───────────┼───────────┼───────────┼───────────┼───────────┼───────────┼───────────┼───────────┼────────────┼────────────┼────────────┼────────────┼────────────┼─────────────────┼────────────────────────┼──────────────────────┼───────────────────┼───────────────────┼───────────────────┼───────────────────┼───────────────────┼───────────────────┼───────────────────┼───────────────────┼───────────────────┼────────────────────┼────────────────────┼────────────────────┼────────────────────┼────────────────────┼─────────────────────────┤\n",
       "│      202324 │ Academic year   │ National         │ E92000001    │ England      │ NULL        │ NULL        │        NULL │ NULL    │ NULL        │ Non-maintained special school │ No SEN           │ Missing                     │                7 │              7 │            0 │         0 │         0 │         0 │         0 │         0 │         0 │         0 │         0 │         0 │          0 │          0 │          0 │          0 │          0 │               0 │                  100.0 │                  0.0 │               0.0 │               0.0 │               0.0 │               0.0 │               0.0 │               0.0 │               0.0 │               0.0 │               0.0 │                0.0 │                0.0 │                0.0 │                0.0 │                0.0 │                     0.0 │\n",
       "│      202324 │ Academic year   │ National         │ E92000001    │ England      │ NULL        │ NULL        │        NULL │ NULL    │ NULL        │ Non-maintained special school │ No SEN           │ Total                       │                7 │              7 │            0 │         0 │         0 │         0 │         0 │         0 │         0 │         0 │         0 │         0 │          0 │          0 │          0 │          0 │          0 │               0 │                  100.0 │                  0.0 │               0.0 │               0.0 │               0.0 │               0.0 │               0.0 │               0.0 │               0.0 │               0.0 │               0.0 │                0.0 │                0.0 │                0.0 │                0.0 │                0.0 │                     0.0 │\n",
       "│      202324 │ Academic year   │ National         │ E92000001    │ England      │ NULL        │ NULL        │        NULL │ NULL    │ NULL        │ Non-maintained special school │ SEN Support      │ Autistic Spectrum Disorder  │                7 │              5 │            0 │         0 │         1 │         0 │         0 │         0 │         1 │         0 │         0 │         0 │          0 │          0 │          0 │          0 │          0 │               0 │            71.42857143 │                  0.0 │               0.0 │       14.28571429 │               0.0 │               0.0 │               0.0 │       14.28571429 │               0.0 │               0.0 │               0.0 │                0.0 │                0.0 │                0.0 │                0.0 │                0.0 │                     0.0 │\n",
       "│      202324 │ Academic year   │ National         │ E92000001    │ England      │ NULL        │ NULL        │        NULL │ NULL    │ NULL        │ Non-maintained special school │ SEN Support      │ Hearing Impairment          │                7 │              1 │            0 │         1 │         0 │         0 │         1 │         1 │         1 │         1 │         0 │         0 │          1 │          0 │          0 │          0 │          0 │               0 │            14.28571429 │                  0.0 │       14.28571429 │               0.0 │               0.0 │       14.28571429 │       14.28571429 │       14.28571429 │       14.28571429 │               0.0 │               0.0 │        14.28571429 │                0.0 │                0.0 │                0.0 │                0.0 │                     0.0 │\n",
       "│      202324 │ Academic year   │ National         │ E92000001    │ England      │ NULL        │ NULL        │        NULL │ NULL    │ NULL        │ Non-maintained special school │ SEN Support      │ Other Difficulty/Disability │                2 │              2 │            0 │         0 │         0 │         0 │         0 │         0 │         0 │         0 │         0 │         0 │          0 │          0 │          0 │          0 │          0 │               0 │                  100.0 │                  0.0 │               0.0 │               0.0 │               0.0 │               0.0 │               0.0 │               0.0 │               0.0 │               0.0 │               0.0 │                0.0 │                0.0 │                0.0 │                0.0 │                0.0 │                     0.0 │\n",
       "└─────────────┴─────────────────┴──────────────────┴──────────────┴──────────────┴─────────────┴─────────────┴─────────────┴─────────┴─────────────┴───────────────────────────────┴──────────────────┴─────────────────────────────┴──────────────────┴────────────────┴──────────────┴───────────┴───────────┴───────────┴───────────┴───────────┴───────────┴───────────┴───────────┴───────────┴────────────┴────────────┴────────────┴────────────┴────────────┴─────────────────┴────────────────────────┴──────────────────────┴───────────────────┴───────────────────┴───────────────────┴───────────────────┴───────────────────┴───────────────────┴───────────────────┴───────────────────┴───────────────────┴────────────────────┴────────────────────┴────────────────────┴────────────────────┴────────────────────┴─────────────────────────┘"
      ]
     },
     "execution_count": 11,
     "metadata": {},
     "output_type": "execute_result"
    }
   ],
   "source": [
    "data.sql(\"\"\"\n",
    "    select *\n",
    "    from sen_ncyear\n",
    "    limit 5\n",
    "    \"\"\")"
   ]
  },
  {
   "cell_type": "code",
   "execution_count": 12,
   "metadata": {},
   "outputs": [
    {
     "data": {
      "application/vnd.microsoft.datawrangler.viewer.v0+json": {
       "columns": [
        {
         "name": "index",
         "rawType": "int64",
         "type": "integer"
        },
        {
         "name": "time_period",
         "rawType": "int64",
         "type": "integer"
        },
        {
         "name": "time_identifier",
         "rawType": "object",
         "type": "string"
        },
        {
         "name": "geographic_level",
         "rawType": "object",
         "type": "string"
        },
        {
         "name": "country_code",
         "rawType": "object",
         "type": "string"
        },
        {
         "name": "country_name",
         "rawType": "object",
         "type": "string"
        },
        {
         "name": "region_name",
         "rawType": "object",
         "type": "unknown"
        },
        {
         "name": "region_code",
         "rawType": "object",
         "type": "unknown"
        },
        {
         "name": "old_la_code",
         "rawType": "Int64",
         "type": "integer"
        },
        {
         "name": "la_name",
         "rawType": "object",
         "type": "unknown"
        },
        {
         "name": "new_la_code",
         "rawType": "object",
         "type": "unknown"
        },
        {
         "name": "phase_type_grouping",
         "rawType": "object",
         "type": "string"
        },
        {
         "name": "pupil_sen_status",
         "rawType": "object",
         "type": "string"
        },
        {
         "name": "primary_need",
         "rawType": "object",
         "type": "string"
        },
        {
         "name": "number_of_pupils",
         "rawType": "int64",
         "type": "integer"
        },
        {
         "name": "nc_early_years",
         "rawType": "int64",
         "type": "integer"
        },
        {
         "name": "nc_reception",
         "rawType": "int64",
         "type": "integer"
        },
        {
         "name": "nc_year_1",
         "rawType": "int64",
         "type": "integer"
        },
        {
         "name": "nc_year_2",
         "rawType": "int64",
         "type": "integer"
        },
        {
         "name": "nc_year_3",
         "rawType": "int64",
         "type": "integer"
        },
        {
         "name": "nc_year_4",
         "rawType": "int64",
         "type": "integer"
        },
        {
         "name": "nc_year_5",
         "rawType": "int64",
         "type": "integer"
        },
        {
         "name": "nc_year_6",
         "rawType": "int64",
         "type": "integer"
        },
        {
         "name": "nc_year_7",
         "rawType": "int64",
         "type": "integer"
        },
        {
         "name": "nc_year_8",
         "rawType": "int64",
         "type": "integer"
        },
        {
         "name": "nc_year_9",
         "rawType": "int64",
         "type": "integer"
        },
        {
         "name": "nc_year_10",
         "rawType": "int64",
         "type": "integer"
        },
        {
         "name": "nc_year_11",
         "rawType": "int64",
         "type": "integer"
        },
        {
         "name": "nc_year_12",
         "rawType": "int64",
         "type": "integer"
        },
        {
         "name": "nc_year_13",
         "rawType": "int64",
         "type": "integer"
        },
        {
         "name": "nc_year_14",
         "rawType": "int64",
         "type": "integer"
        },
        {
         "name": "nc_not_followed",
         "rawType": "int64",
         "type": "integer"
        },
        {
         "name": "nc_early_years_percent",
         "rawType": "float64",
         "type": "float"
        },
        {
         "name": "nc_reception_percent",
         "rawType": "float64",
         "type": "float"
        },
        {
         "name": "nc_year_1_percent",
         "rawType": "float64",
         "type": "float"
        },
        {
         "name": "nc_year_2_percent",
         "rawType": "float64",
         "type": "float"
        },
        {
         "name": "nc_year_3_percent",
         "rawType": "float64",
         "type": "float"
        },
        {
         "name": "nc_year_4_percent",
         "rawType": "float64",
         "type": "float"
        },
        {
         "name": "nc_year_5_percent",
         "rawType": "float64",
         "type": "float"
        },
        {
         "name": "nc_year_6_percent",
         "rawType": "float64",
         "type": "float"
        },
        {
         "name": "nc_year_7_percent",
         "rawType": "float64",
         "type": "float"
        },
        {
         "name": "nc_year_8_percent",
         "rawType": "float64",
         "type": "float"
        },
        {
         "name": "nc_year_9_percent",
         "rawType": "float64",
         "type": "float"
        },
        {
         "name": "nc_year_10_percent",
         "rawType": "float64",
         "type": "float"
        },
        {
         "name": "nc_year_11_percent",
         "rawType": "float64",
         "type": "float"
        },
        {
         "name": "nc_year_12_percent",
         "rawType": "float64",
         "type": "float"
        },
        {
         "name": "nc_year_13_percent",
         "rawType": "float64",
         "type": "float"
        },
        {
         "name": "nc_year_14_percent",
         "rawType": "float64",
         "type": "float"
        },
        {
         "name": "nc_not_followed_percent",
         "rawType": "float64",
         "type": "float"
        }
       ],
       "conversionMethod": "pd.DataFrame",
       "ref": "35e2116f-7499-4c95-a08f-306b33a33d85",
       "rows": [
        [
         "0",
         "202324",
         "Academic year",
         "National",
         "E92000001",
         "England",
         null,
         null,
         null,
         null,
         null,
         "Non-maintained special school",
         "No SEN",
         "Missing",
         "7",
         "7",
         "0",
         "0",
         "0",
         "0",
         "0",
         "0",
         "0",
         "0",
         "0",
         "0",
         "0",
         "0",
         "0",
         "0",
         "0",
         "0",
         "100.0",
         "0.0",
         "0.0",
         "0.0",
         "0.0",
         "0.0",
         "0.0",
         "0.0",
         "0.0",
         "0.0",
         "0.0",
         "0.0",
         "0.0",
         "0.0",
         "0.0",
         "0.0",
         "0.0"
        ],
        [
         "1",
         "202324",
         "Academic year",
         "National",
         "E92000001",
         "England",
         null,
         null,
         null,
         null,
         null,
         "Non-maintained special school",
         "No SEN",
         "Total",
         "7",
         "7",
         "0",
         "0",
         "0",
         "0",
         "0",
         "0",
         "0",
         "0",
         "0",
         "0",
         "0",
         "0",
         "0",
         "0",
         "0",
         "0",
         "100.0",
         "0.0",
         "0.0",
         "0.0",
         "0.0",
         "0.0",
         "0.0",
         "0.0",
         "0.0",
         "0.0",
         "0.0",
         "0.0",
         "0.0",
         "0.0",
         "0.0",
         "0.0",
         "0.0"
        ],
        [
         "2",
         "202324",
         "Academic year",
         "National",
         "E92000001",
         "England",
         null,
         null,
         null,
         null,
         null,
         "Non-maintained special school",
         "SEN Support",
         "Autistic Spectrum Disorder",
         "7",
         "5",
         "0",
         "0",
         "1",
         "0",
         "0",
         "0",
         "1",
         "0",
         "0",
         "0",
         "0",
         "0",
         "0",
         "0",
         "0",
         "0",
         "71.42857143",
         "0.0",
         "0.0",
         "14.28571429",
         "0.0",
         "0.0",
         "0.0",
         "14.28571429",
         "0.0",
         "0.0",
         "0.0",
         "0.0",
         "0.0",
         "0.0",
         "0.0",
         "0.0",
         "0.0"
        ],
        [
         "3",
         "202324",
         "Academic year",
         "National",
         "E92000001",
         "England",
         null,
         null,
         null,
         null,
         null,
         "Non-maintained special school",
         "SEN Support",
         "Hearing Impairment",
         "7",
         "1",
         "0",
         "1",
         "0",
         "0",
         "1",
         "1",
         "1",
         "1",
         "0",
         "0",
         "1",
         "0",
         "0",
         "0",
         "0",
         "0",
         "14.28571429",
         "0.0",
         "14.28571429",
         "0.0",
         "0.0",
         "14.28571429",
         "14.28571429",
         "14.28571429",
         "14.28571429",
         "0.0",
         "0.0",
         "14.28571429",
         "0.0",
         "0.0",
         "0.0",
         "0.0",
         "0.0"
        ],
        [
         "4",
         "202324",
         "Academic year",
         "National",
         "E92000001",
         "England",
         null,
         null,
         null,
         null,
         null,
         "Non-maintained special school",
         "SEN Support",
         "Other Difficulty/Disability",
         "2",
         "2",
         "0",
         "0",
         "0",
         "0",
         "0",
         "0",
         "0",
         "0",
         "0",
         "0",
         "0",
         "0",
         "0",
         "0",
         "0",
         "0",
         "100.0",
         "0.0",
         "0.0",
         "0.0",
         "0.0",
         "0.0",
         "0.0",
         "0.0",
         "0.0",
         "0.0",
         "0.0",
         "0.0",
         "0.0",
         "0.0",
         "0.0",
         "0.0",
         "0.0"
        ]
       ],
       "shape": {
        "columns": 48,
        "rows": 5
       }
      },
      "text/html": [
       "<div>\n",
       "<style scoped>\n",
       "    .dataframe tbody tr th:only-of-type {\n",
       "        vertical-align: middle;\n",
       "    }\n",
       "\n",
       "    .dataframe tbody tr th {\n",
       "        vertical-align: top;\n",
       "    }\n",
       "\n",
       "    .dataframe thead th {\n",
       "        text-align: right;\n",
       "    }\n",
       "</style>\n",
       "<table border=\"1\" class=\"dataframe\">\n",
       "  <thead>\n",
       "    <tr style=\"text-align: right;\">\n",
       "      <th></th>\n",
       "      <th>time_period</th>\n",
       "      <th>time_identifier</th>\n",
       "      <th>geographic_level</th>\n",
       "      <th>country_code</th>\n",
       "      <th>country_name</th>\n",
       "      <th>region_name</th>\n",
       "      <th>region_code</th>\n",
       "      <th>old_la_code</th>\n",
       "      <th>la_name</th>\n",
       "      <th>new_la_code</th>\n",
       "      <th>...</th>\n",
       "      <th>nc_year_6_percent</th>\n",
       "      <th>nc_year_7_percent</th>\n",
       "      <th>nc_year_8_percent</th>\n",
       "      <th>nc_year_9_percent</th>\n",
       "      <th>nc_year_10_percent</th>\n",
       "      <th>nc_year_11_percent</th>\n",
       "      <th>nc_year_12_percent</th>\n",
       "      <th>nc_year_13_percent</th>\n",
       "      <th>nc_year_14_percent</th>\n",
       "      <th>nc_not_followed_percent</th>\n",
       "    </tr>\n",
       "  </thead>\n",
       "  <tbody>\n",
       "    <tr>\n",
       "      <th>0</th>\n",
       "      <td>202324</td>\n",
       "      <td>Academic year</td>\n",
       "      <td>National</td>\n",
       "      <td>E92000001</td>\n",
       "      <td>England</td>\n",
       "      <td>None</td>\n",
       "      <td>None</td>\n",
       "      <td>&lt;NA&gt;</td>\n",
       "      <td>None</td>\n",
       "      <td>None</td>\n",
       "      <td>...</td>\n",
       "      <td>0.000000</td>\n",
       "      <td>0.000000</td>\n",
       "      <td>0.0</td>\n",
       "      <td>0.0</td>\n",
       "      <td>0.000000</td>\n",
       "      <td>0.0</td>\n",
       "      <td>0.0</td>\n",
       "      <td>0.0</td>\n",
       "      <td>0.0</td>\n",
       "      <td>0.0</td>\n",
       "    </tr>\n",
       "    <tr>\n",
       "      <th>1</th>\n",
       "      <td>202324</td>\n",
       "      <td>Academic year</td>\n",
       "      <td>National</td>\n",
       "      <td>E92000001</td>\n",
       "      <td>England</td>\n",
       "      <td>None</td>\n",
       "      <td>None</td>\n",
       "      <td>&lt;NA&gt;</td>\n",
       "      <td>None</td>\n",
       "      <td>None</td>\n",
       "      <td>...</td>\n",
       "      <td>0.000000</td>\n",
       "      <td>0.000000</td>\n",
       "      <td>0.0</td>\n",
       "      <td>0.0</td>\n",
       "      <td>0.000000</td>\n",
       "      <td>0.0</td>\n",
       "      <td>0.0</td>\n",
       "      <td>0.0</td>\n",
       "      <td>0.0</td>\n",
       "      <td>0.0</td>\n",
       "    </tr>\n",
       "    <tr>\n",
       "      <th>2</th>\n",
       "      <td>202324</td>\n",
       "      <td>Academic year</td>\n",
       "      <td>National</td>\n",
       "      <td>E92000001</td>\n",
       "      <td>England</td>\n",
       "      <td>None</td>\n",
       "      <td>None</td>\n",
       "      <td>&lt;NA&gt;</td>\n",
       "      <td>None</td>\n",
       "      <td>None</td>\n",
       "      <td>...</td>\n",
       "      <td>14.285714</td>\n",
       "      <td>0.000000</td>\n",
       "      <td>0.0</td>\n",
       "      <td>0.0</td>\n",
       "      <td>0.000000</td>\n",
       "      <td>0.0</td>\n",
       "      <td>0.0</td>\n",
       "      <td>0.0</td>\n",
       "      <td>0.0</td>\n",
       "      <td>0.0</td>\n",
       "    </tr>\n",
       "    <tr>\n",
       "      <th>3</th>\n",
       "      <td>202324</td>\n",
       "      <td>Academic year</td>\n",
       "      <td>National</td>\n",
       "      <td>E92000001</td>\n",
       "      <td>England</td>\n",
       "      <td>None</td>\n",
       "      <td>None</td>\n",
       "      <td>&lt;NA&gt;</td>\n",
       "      <td>None</td>\n",
       "      <td>None</td>\n",
       "      <td>...</td>\n",
       "      <td>14.285714</td>\n",
       "      <td>14.285714</td>\n",
       "      <td>0.0</td>\n",
       "      <td>0.0</td>\n",
       "      <td>14.285714</td>\n",
       "      <td>0.0</td>\n",
       "      <td>0.0</td>\n",
       "      <td>0.0</td>\n",
       "      <td>0.0</td>\n",
       "      <td>0.0</td>\n",
       "    </tr>\n",
       "    <tr>\n",
       "      <th>4</th>\n",
       "      <td>202324</td>\n",
       "      <td>Academic year</td>\n",
       "      <td>National</td>\n",
       "      <td>E92000001</td>\n",
       "      <td>England</td>\n",
       "      <td>None</td>\n",
       "      <td>None</td>\n",
       "      <td>&lt;NA&gt;</td>\n",
       "      <td>None</td>\n",
       "      <td>None</td>\n",
       "      <td>...</td>\n",
       "      <td>0.000000</td>\n",
       "      <td>0.000000</td>\n",
       "      <td>0.0</td>\n",
       "      <td>0.0</td>\n",
       "      <td>0.000000</td>\n",
       "      <td>0.0</td>\n",
       "      <td>0.0</td>\n",
       "      <td>0.0</td>\n",
       "      <td>0.0</td>\n",
       "      <td>0.0</td>\n",
       "    </tr>\n",
       "  </tbody>\n",
       "</table>\n",
       "<p>5 rows × 48 columns</p>\n",
       "</div>"
      ],
      "text/plain": [
       "   time_period time_identifier geographic_level country_code country_name  \\\n",
       "0       202324   Academic year         National    E92000001      England   \n",
       "1       202324   Academic year         National    E92000001      England   \n",
       "2       202324   Academic year         National    E92000001      England   \n",
       "3       202324   Academic year         National    E92000001      England   \n",
       "4       202324   Academic year         National    E92000001      England   \n",
       "\n",
       "  region_name region_code  old_la_code la_name new_la_code  ...  \\\n",
       "0        None        None         <NA>    None        None  ...   \n",
       "1        None        None         <NA>    None        None  ...   \n",
       "2        None        None         <NA>    None        None  ...   \n",
       "3        None        None         <NA>    None        None  ...   \n",
       "4        None        None         <NA>    None        None  ...   \n",
       "\n",
       "  nc_year_6_percent nc_year_7_percent nc_year_8_percent  nc_year_9_percent  \\\n",
       "0          0.000000          0.000000               0.0                0.0   \n",
       "1          0.000000          0.000000               0.0                0.0   \n",
       "2         14.285714          0.000000               0.0                0.0   \n",
       "3         14.285714         14.285714               0.0                0.0   \n",
       "4          0.000000          0.000000               0.0                0.0   \n",
       "\n",
       "   nc_year_10_percent  nc_year_11_percent  nc_year_12_percent  \\\n",
       "0            0.000000                 0.0                 0.0   \n",
       "1            0.000000                 0.0                 0.0   \n",
       "2            0.000000                 0.0                 0.0   \n",
       "3           14.285714                 0.0                 0.0   \n",
       "4            0.000000                 0.0                 0.0   \n",
       "\n",
       "   nc_year_13_percent  nc_year_14_percent  nc_not_followed_percent  \n",
       "0                 0.0                 0.0                      0.0  \n",
       "1                 0.0                 0.0                      0.0  \n",
       "2                 0.0                 0.0                      0.0  \n",
       "3                 0.0                 0.0                      0.0  \n",
       "4                 0.0                 0.0                      0.0  \n",
       "\n",
       "[5 rows x 48 columns]"
      ]
     },
     "execution_count": 12,
     "metadata": {},
     "output_type": "execute_result"
    }
   ],
   "source": [
    "# query into a pandas dataframe\n",
    "year_groups = data.sql(\n",
    "    \"\"\"\n",
    "    select  *\n",
    "    from sen_ncyear\n",
    "    limit 5    \n",
    "    \"\"\").df()\n",
    "\n",
    "year_groups.head()"
   ]
  }
 ],
 "metadata": {
  "kernelspec": {
   "display_name": "Python 3",
   "language": "python",
   "name": "python3"
  },
  "language_info": {
   "codemirror_mode": {
    "name": "ipython",
    "version": 3
   },
   "file_extension": ".py",
   "mimetype": "text/x-python",
   "name": "python",
   "nbconvert_exporter": "python",
   "pygments_lexer": "ipython3",
   "version": "3.13.2"
  }
 },
 "nbformat": 4,
 "nbformat_minor": 2
}
