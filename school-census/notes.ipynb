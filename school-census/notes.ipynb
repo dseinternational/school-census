{
 "cells": [
  {
   "cell_type": "code",
   "execution_count": 1,
   "metadata": {},
   "outputs": [],
   "source": [
    "import duckdb\n",
    "import pandas as pd\n",
    "import config\n",
    "\n",
    "data = duckdb.connect(f\"../{config.DATA_DIR_NAME}/data_tables.db\")"
   ]
  },
  {
   "cell_type": "code",
   "execution_count": 2,
   "metadata": {},
   "outputs": [
    {
     "data": {
      "text/plain": [
       "┌─────────────┬─────────────────┬──────────────────┬──────────────┬──────────────┬─────────────┬─────────────┬─────────────┬─────────┬─────────────┬───────────────────────────────┬──────────────────┬────────────────────────────┬─────────────────┬─────────────────┬─────────────┬───────────────┐\n",
       "│ time_period │ time_identifier │ geographic_level │ country_code │ country_name │ region_name │ region_code │ old_la_code │ la_name │ new_la_code │      phase_type_grouping      │ pupil_sen_status │        primary_need        │ breakdown_topic │    breakdown    │ pupil_count │ pupil_percent │\n",
       "│    int64    │     varchar     │     varchar      │   varchar    │   varchar    │   varchar   │   varchar   │    int64    │ varchar │   varchar   │            varchar            │     varchar      │          varchar           │     varchar     │     varchar     │    int64    │    double     │\n",
       "├─────────────┼─────────────────┼──────────────────┼──────────────┼──────────────┼─────────────┼─────────────┼─────────────┼─────────┼─────────────┼───────────────────────────────┼──────────────────┼────────────────────────────┼─────────────────┼─────────────────┼─────────────┼───────────────┤\n",
       "│      202324 │ Academic year   │ National         │ E92000001    │ England      │ NULL        │ NULL        │        NULL │ NULL    │ NULL        │ Non-maintained special school │ EHC plans        │ Autistic Spectrum Disorder │ Total           │ Total           │        1339 │         100.0 │\n",
       "│      202324 │ Academic year   │ National         │ E92000001    │ England      │ NULL        │ NULL        │        NULL │ NULL    │ NULL        │ Non-maintained special school │ EHC plans        │ Autistic Spectrum Disorder │ Age             │ Age 2 and under │           1 │          0.07 │\n",
       "│      202324 │ Academic year   │ National         │ E92000001    │ England      │ NULL        │ NULL        │        NULL │ NULL    │ NULL        │ Non-maintained special school │ EHC plans        │ Autistic Spectrum Disorder │ Age             │ Age 3           │           0 │           0.0 │\n",
       "│      202324 │ Academic year   │ National         │ E92000001    │ England      │ NULL        │ NULL        │        NULL │ NULL    │ NULL        │ Non-maintained special school │ EHC plans        │ Autistic Spectrum Disorder │ Age             │ Age 4           │          14 │          1.05 │\n",
       "│      202324 │ Academic year   │ National         │ E92000001    │ England      │ NULL        │ NULL        │        NULL │ NULL    │ NULL        │ Non-maintained special school │ EHC plans        │ Autistic Spectrum Disorder │ Age             │ Age 5           │          34 │          2.54 │\n",
       "└─────────────┴─────────────────┴──────────────────┴──────────────┴──────────────┴─────────────┴─────────────┴─────────────┴─────────┴─────────────┴───────────────────────────────┴──────────────────┴────────────────────────────┴─────────────────┴─────────────────┴─────────────┴───────────────┘"
      ]
     },
     "execution_count": 2,
     "metadata": {},
     "output_type": "execute_result"
    }
   ],
   "source": [
    "data.sql(\"\"\"\n",
    "    select *\n",
    "    from sen_age_sex\n",
    "    limit 5\n",
    "    \"\"\")"
   ]
  },
  {
   "cell_type": "code",
   "execution_count": 3,
   "metadata": {},
   "outputs": [
    {
     "data": {
      "application/vnd.microsoft.datawrangler.viewer.v0+json": {
       "columns": [
        {
         "name": "index",
         "rawType": "int64",
         "type": "integer"
        },
        {
         "name": "time_period",
         "rawType": "int64",
         "type": "integer"
        },
        {
         "name": "phase_type_grouping",
         "rawType": "object",
         "type": "string"
        },
        {
         "name": "breakdown",
         "rawType": "object",
         "type": "string"
        },
        {
         "name": "pupil_count",
         "rawType": "float64",
         "type": "float"
        }
       ],
       "conversionMethod": "pd.DataFrame",
       "ref": "8d3a162e-27f1-4b7e-85c9-a887fdd43ea4",
       "rows": [
        [
         "0",
         "201516",
         "State-funded primary",
         "Age 10",
         "64980.0"
        ],
        [
         "1",
         "201617",
         "State-funded primary",
         "Age 10",
         "64356.0"
        ],
        [
         "2",
         "201718",
         "State-funded primary",
         "Age 10",
         "69480.0"
        ],
        [
         "3",
         "201819",
         "State-funded primary",
         "Age 10",
         "79254.0"
        ],
        [
         "4",
         "201920",
         "State-funded primary",
         "Age 10",
         "89454.0"
        ]
       ],
       "shape": {
        "columns": 4,
        "rows": 5
       }
      },
      "text/html": [
       "<div>\n",
       "<style scoped>\n",
       "    .dataframe tbody tr th:only-of-type {\n",
       "        vertical-align: middle;\n",
       "    }\n",
       "\n",
       "    .dataframe tbody tr th {\n",
       "        vertical-align: top;\n",
       "    }\n",
       "\n",
       "    .dataframe thead th {\n",
       "        text-align: right;\n",
       "    }\n",
       "</style>\n",
       "<table border=\"1\" class=\"dataframe\">\n",
       "  <thead>\n",
       "    <tr style=\"text-align: right;\">\n",
       "      <th></th>\n",
       "      <th>time_period</th>\n",
       "      <th>phase_type_grouping</th>\n",
       "      <th>breakdown</th>\n",
       "      <th>pupil_count</th>\n",
       "    </tr>\n",
       "  </thead>\n",
       "  <tbody>\n",
       "    <tr>\n",
       "      <th>0</th>\n",
       "      <td>201516</td>\n",
       "      <td>State-funded primary</td>\n",
       "      <td>Age 10</td>\n",
       "      <td>64980.0</td>\n",
       "    </tr>\n",
       "    <tr>\n",
       "      <th>1</th>\n",
       "      <td>201617</td>\n",
       "      <td>State-funded primary</td>\n",
       "      <td>Age 10</td>\n",
       "      <td>64356.0</td>\n",
       "    </tr>\n",
       "    <tr>\n",
       "      <th>2</th>\n",
       "      <td>201718</td>\n",
       "      <td>State-funded primary</td>\n",
       "      <td>Age 10</td>\n",
       "      <td>69480.0</td>\n",
       "    </tr>\n",
       "    <tr>\n",
       "      <th>3</th>\n",
       "      <td>201819</td>\n",
       "      <td>State-funded primary</td>\n",
       "      <td>Age 10</td>\n",
       "      <td>79254.0</td>\n",
       "    </tr>\n",
       "    <tr>\n",
       "      <th>4</th>\n",
       "      <td>201920</td>\n",
       "      <td>State-funded primary</td>\n",
       "      <td>Age 10</td>\n",
       "      <td>89454.0</td>\n",
       "    </tr>\n",
       "  </tbody>\n",
       "</table>\n",
       "</div>"
      ],
      "text/plain": [
       "   time_period   phase_type_grouping breakdown  pupil_count\n",
       "0       201516  State-funded primary    Age 10      64980.0\n",
       "1       201617  State-funded primary    Age 10      64356.0\n",
       "2       201718  State-funded primary    Age 10      69480.0\n",
       "3       201819  State-funded primary    Age 10      79254.0\n",
       "4       201920  State-funded primary    Age 10      89454.0"
      ]
     },
     "execution_count": 3,
     "metadata": {},
     "output_type": "execute_result"
    }
   ],
   "source": [
    "ages = data.sql(\n",
    "    \"\"\"\n",
    "    select time_period, phase_type_grouping, breakdown, sum(pupil_count) as pupil_count\n",
    "    from sen_age_sex\n",
    "    where phase_type_grouping = 'State-funded primary' and pupil_sen_status = 'EHC plans' and breakdown_topic = 'Age'\n",
    "    group by time_period, pupil_sen_status, phase_type_grouping, breakdown\n",
    "    order by breakdown, time_period    \n",
    "    \"\"\").df()\n",
    "\n",
    "ages.head()"
   ]
  }
 ],
 "metadata": {
  "kernelspec": {
   "display_name": "Python 3",
   "language": "python",
   "name": "python3"
  },
  "language_info": {
   "codemirror_mode": {
    "name": "ipython",
    "version": 3
   },
   "file_extension": ".py",
   "mimetype": "text/x-python",
   "name": "python",
   "nbconvert_exporter": "python",
   "pygments_lexer": "ipython3",
   "version": "3.13.2"
  }
 },
 "nbformat": 4,
 "nbformat_minor": 2
}
